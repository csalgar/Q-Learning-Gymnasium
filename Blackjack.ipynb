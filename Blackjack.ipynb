{
 "cells": [
  {
   "cell_type": "code",
   "execution_count": 2,
   "id": "ae992afd-9dfe-4d9d-bf07-e44a31dfbf42",
   "metadata": {},
   "outputs": [],
   "source": [
    "import gymnasium as gym\n",
    "import numpy as np\n",
    "import random"
   ]
  },
  {
   "cell_type": "code",
   "execution_count": 3,
   "id": "4230a7fd-4952-46b9-b4a7-a2127c5a6223",
   "metadata": {},
   "outputs": [],
   "source": [
    "def map_state(s):\n",
    "    return (s[0]-1)+32*(s[1]-1)+ 32*11*s[2]"
   ]
  },
  {
   "cell_type": "code",
   "execution_count": 6,
   "id": "44ac6714-e77b-4a36-8008-64d4d930b4af",
   "metadata": {},
   "outputs": [
    {
     "name": "stdout",
     "output_type": "stream",
     "text": [
      " \n",
      "Episode: 99998\n",
      "My sum: 20\n",
      "Dealer face card: 6\n",
      "Have ace: False\n",
      "Action: 0\n",
      "Reward: 1.0\n",
      "Next Sum: 20\n",
      "True\n",
      " \n",
      "Episode: 99999\n",
      "My sum: 15\n",
      "Dealer face card: 6\n",
      "Have ace: False\n",
      "Action: 0\n",
      "Reward: -1.0\n",
      "Next Sum: 15\n",
      "True\n",
      " \n",
      "Episode: 100000\n",
      "My sum: 8\n",
      "Dealer face card: 10\n",
      "Have ace: False\n",
      "Action: 1\n",
      "Reward: 0.0\n",
      "Next Sum: 17\n",
      "False\n",
      "Action: 0\n",
      "Reward: -1.0\n",
      "Next Sum: 17\n",
      "True\n",
      "Win percentage after 100000 episodes: 41.9%\n"
     ]
    }
   ],
   "source": [
    "#Generar juego\n",
    "env = gym.make(\"Blackjack-v1\",   sab=True)\n",
    "\n",
    "#Crear tabla_q con todas las posibilidades \n",
    "observation_space = env.observation_space[0].n * env.observation_space[1].n * env.observation_space[2].n\n",
    "q_table = np.zeros([observation_space, env.action_space.n])\n",
    "\n",
    "#Inicializar variables \n",
    "epsilon = 3\n",
    "alpha = 0.01\n",
    "gamma = 0.95\n",
    "\n",
    "#Inicializar métricas \n",
    "total_wins = 0\n",
    "total_loss = 0\n",
    "total_draw = 0\n",
    "num_episodes = 100000\n",
    "\n",
    "\n",
    "for episode in range(num_episodes):\n",
    "    #Generar estado y guardar características\n",
    "    state, _ = env.reset()\n",
    "    #Ver caracteerísticas iniciales\n",
    "    if episode >= num_episodes - 3:\n",
    "        print(\" \")\n",
    "        print(f\"Episode: {episode+1}\")\n",
    "        print(f\"My sum: {state[0]}\")\n",
    "        print(f\"Dealer face card: {state[1]}\")\n",
    "        print(f\"Have ace: {bool(state[2])}\")\n",
    "    #Map estado usando función map_state\n",
    "    state = map_state(state)\n",
    "    \n",
    "    done = False\n",
    "    while not done:\n",
    "        #Determinar acción siguiende política epsilon-greedy para explorar\n",
    "        if random.uniform(0,1) < epsilon:\n",
    "            action = env.action_space.sample()\n",
    "        else:\n",
    "            action = np.argmax(q_table[state])\n",
    "            \n",
    "        #Tomar acción y recibir información\n",
    "        next_state, reward, terminated, truncated, info = env.step(action)\n",
    "        next_player_sum = next_state[0]\n",
    "        next_dealer_card = next_state[1]\n",
    "        next_usable_ace = bool(next_state[2])\n",
    "        \n",
    "        done = terminated or truncated\n",
    "        #Map el nuevo estado usando la función map_state\n",
    "        next_state = map_state(next_state)\n",
    "\n",
    "        #Actualizar función-Q\n",
    "        old_q = q_table[state][action]\n",
    "        next_max_q = (not done) * np.max(q_table[next_state])        \n",
    "        q_table[state][action] = old_q + alpha*(reward + gamma*next_max_q - old_q)\n",
    "\n",
    "        #Pasar a siguiente estado\n",
    "        state = next_state\n",
    "        #Si ver caraterísticas del episodio\n",
    "        if episode >= num_episodes-3:\n",
    "            print(f\"Action: {action}\")\n",
    "            print(f\"Reward: {reward}\")\n",
    "            print(f\"Next Sum: {next_player_sum}\")\n",
    "            print(done)\n",
    "        \n",
    "        #Ver porcentaje de juegos ganados y empatados\n",
    "        if episode == num_episodes-1 and done:\n",
    "            print(f\"Win percentage after {episode+1} episodes: {round(((total_wins)/(total_wins + total_loss + total_draw))*100, 1)}%\")\n",
    "        \n",
    "       \n",
    "        epsilon *= 0.99\n",
    "       #Update métricas\n",
    "        if done:\n",
    "            if reward > 0:\n",
    "                total_wins+=1\n",
    "            elif reward < 0:\n",
    "                total_loss+=1\n",
    "            else:\n",
    "                total_draw+=1\n",
    "    \n",
    "env.close()"
   ]
  },
  {
   "cell_type": "code",
   "execution_count": 342,
   "id": "2d0a9c5c-a90c-4c36-b467-53f310770b41",
   "metadata": {},
   "outputs": [
    {
     "data": {
      "text/plain": [
       "-0.0214049711623357"
      ]
     },
     "execution_count": 342,
     "metadata": {},
     "output_type": "execute_result"
    }
   ],
   "source": [
    "q_table.mean()"
   ]
  },
  {
   "cell_type": "code",
   "execution_count": null,
   "id": "3b538153-be45-43c9-9bf2-6d089a984011",
   "metadata": {},
   "outputs": [],
   "source": []
  },
  {
   "cell_type": "code",
   "execution_count": null,
   "id": "487079de-3ea7-41a9-ae7d-35489cff8679",
   "metadata": {},
   "outputs": [],
   "source": []
  }
 ],
 "metadata": {
  "kernelspec": {
   "display_name": "Python 3 (ipykernel)",
   "language": "python",
   "name": "python3"
  },
  "language_info": {
   "codemirror_mode": {
    "name": "ipython",
    "version": 3
   },
   "file_extension": ".py",
   "mimetype": "text/x-python",
   "name": "python",
   "nbconvert_exporter": "python",
   "pygments_lexer": "ipython3",
   "version": "3.12.4"
  }
 },
 "nbformat": 4,
 "nbformat_minor": 5
}
